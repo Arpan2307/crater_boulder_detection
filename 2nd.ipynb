{
 "cells": [
  {
   "cell_type": "code",
   "execution_count": 1,
   "id": "bb512f88-0fe7-424d-a2d4-daaeca5434ce",
   "metadata": {},
   "outputs": [
    {
     "name": "stdout",
     "output_type": "stream",
     "text": [
      "Split image into 1000 smaller images.\n"
     ]
    }
   ],
   "source": [
    "from PIL import Image\n",
    "import os\n",
    "import math\n",
    "\n",
    "# Override the DecompressionBombError limit\n",
    "Image.MAX_IMAGE_PIXELS = None\n",
    "\n",
    "def split_image(image_path, output_folder, num_images):\n",
    "    # Open the image\n",
    "    image = Image.open(r\"C:\\Users\\arpan\\OneDrive\\Desktop\\image.png\")\n",
    "    img_width, img_height = image.size\n",
    "    \n",
    "    # Calculate the number of rows and columns to get approximately num_images\n",
    "    num_images_side = math.ceil(math.sqrt(num_images))\n",
    "    \n",
    "    # Calculate the dimensions of each smaller image\n",
    "    small_img_width = img_width // num_images_side\n",
    "    small_img_height = img_height // num_images_side\n",
    "\n",
    "    if not os.path.exists(output_folder):\n",
    "        os.makedirs(output_folder)\n",
    "    \n",
    "    # Split the image\n",
    "    count = 0\n",
    "    for i in range(num_images_side):\n",
    "        for j in range(num_images_side):\n",
    "            left = i * small_img_width\n",
    "            top = j * small_img_height\n",
    "            right = (i + 1) * small_img_width if i != num_images_side - 1 else img_width\n",
    "            bottom = (j + 1) * small_img_height if j != num_images_side - 1 else img_height\n",
    "            \n",
    "            # Create smaller image\n",
    "            small_image = image.crop((left, top, right, bottom))\n",
    "            small_image.save(os.path.join(output_folder, f\"image_{count}.png\"))\n",
    "            count += 1\n",
    "\n",
    "            # Stop if we have reached the desired number of images\n",
    "            if count >= num_images:\n",
    "                break\n",
    "        if count >= num_images:\n",
    "            break\n",
    "    \n",
    "    print(f\"Split image into {count} smaller images.\")\n",
    "\n",
    "# Example usage\n",
    "split_image(\"large_image.png\", \"output_images3\", 1000)\n"
   ]
  },
  {
   "cell_type": "code",
   "execution_count": null,
   "id": "fcafe3a6-4ec5-4d57-ad99-5c6e125ba1c2",
   "metadata": {},
   "outputs": [],
   "source": []
  }
 ],
 "metadata": {
  "kernelspec": {
   "display_name": "Python 3 (ipykernel)",
   "language": "python",
   "name": "python3"
  },
  "language_info": {
   "codemirror_mode": {
    "name": "ipython",
    "version": 3
   },
   "file_extension": ".py",
   "mimetype": "text/x-python",
   "name": "python",
   "nbconvert_exporter": "python",
   "pygments_lexer": "ipython3",
   "version": "3.11.7"
  }
 },
 "nbformat": 4,
 "nbformat_minor": 5
}
