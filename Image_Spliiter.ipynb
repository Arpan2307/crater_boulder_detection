{
 "cells": [
  {
   "cell_type": "code",
   "execution_count": 3,
   "id": "d5444860-ecda-478f-b133-bab84f62a39d",
   "metadata": {},
   "outputs": [
    {
     "name": "stdout",
     "output_type": "stream",
     "text": [
      "Split image into 10000 smaller images.\n"
     ]
    }
   ],
   "source": [
    "from PIL import Image\n",
    "import os\n",
    "Image.MAX_IMAGE_PIXELS = None\n",
    "\n",
    "def split_image(image_path, output_folder, num_images):\n",
    "    # Open the image\n",
    "    image = Image.open(r\"C:\\Users\\arpan\\OneDrive\\Desktop\\image.png\")\n",
    "    img_width, img_height = image.size\n",
    "    \n",
    "    # Calculate the dimensions of each smaller image\n",
    "    small_img_width = img_width // num_images\n",
    "    small_img_height = img_height // num_images\n",
    "\n",
    "    if not os.path.exists(output_folder):\n",
    "        os.makedirs(output_folder)\n",
    "    \n",
    "    # Split the image\n",
    "    count = 0\n",
    "    for i in range(num_images):\n",
    "        for j in range(num_images):\n",
    "            left = i * small_img_width\n",
    "            top = j * small_img_height\n",
    "            right = (i + 1) * small_img_width if i != num_images - 1 else img_width\n",
    "            bottom = (j + 1) * small_img_height if j != num_images - 1 else img_height\n",
    "            \n",
    "            # Create smaller image\n",
    "            small_image = image.crop((left, top, right, bottom))\n",
    "            small_image.save(os.path.join(output_folder, f\"image_{count}.png\"))\n",
    "            count += 1\n",
    "    \n",
    "    print(f\"Split image into {count} smaller images.\")\n",
    "\n",
    "# Example usage\n",
    "split_image(\"large_image.png\", \"output_images\", 100)\n"
   ]
  },
  {
   "cell_type": "code",
   "execution_count": null,
   "id": "4cdbd574-ec41-42ef-9f64-e2afee483878",
   "metadata": {},
   "outputs": [],
   "source": []
  }
 ],
 "metadata": {
  "kernelspec": {
   "display_name": "Python 3 (ipykernel)",
   "language": "python",
   "name": "python3"
  },
  "language_info": {
   "codemirror_mode": {
    "name": "ipython",
    "version": 3
   },
   "file_extension": ".py",
   "mimetype": "text/x-python",
   "name": "python",
   "nbconvert_exporter": "python",
   "pygments_lexer": "ipython3",
   "version": "3.11.7"
  }
 },
 "nbformat": 4,
 "nbformat_minor": 5
}
